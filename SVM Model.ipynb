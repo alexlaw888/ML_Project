{
 "cells": [
  {
   "cell_type": "code",
   "execution_count": 2,
   "metadata": {},
   "outputs": [
    {
     "ename": "ModuleNotFoundError",
     "evalue": "No module named 'talib'",
     "output_type": "error",
     "traceback": [
      "\u001b[1;31m---------------------------------------------------------------------------\u001b[0m",
      "\u001b[1;31mModuleNotFoundError\u001b[0m                       Traceback (most recent call last)",
      "\u001b[1;32m<ipython-input-2-5e121f2c97ef>\u001b[0m in \u001b[0;36m<module>\u001b[1;34m()\u001b[0m\n\u001b[0;32m      9\u001b[0m \u001b[0mwarnings\u001b[0m\u001b[1;33m.\u001b[0m\u001b[0msimplefilter\u001b[0m\u001b[1;33m(\u001b[0m\u001b[1;34m'ignore'\u001b[0m\u001b[1;33m)\u001b[0m\u001b[1;33m\u001b[0m\u001b[0m\n\u001b[0;32m     10\u001b[0m \u001b[1;33m\u001b[0m\u001b[0m\n\u001b[1;32m---> 11\u001b[1;33m \u001b[1;32mimport\u001b[0m \u001b[0mtalib\u001b[0m \u001b[1;32mas\u001b[0m \u001b[0mta\u001b[0m\u001b[1;33m\u001b[0m\u001b[0m\n\u001b[0m\u001b[0;32m     12\u001b[0m \u001b[1;32mfrom\u001b[0m \u001b[0mtalib\u001b[0m \u001b[1;32mimport\u001b[0m \u001b[0mMA_Type\u001b[0m\u001b[1;33m\u001b[0m\u001b[0m\n\u001b[0;32m     13\u001b[0m \u001b[1;33m\u001b[0m\u001b[0m\n",
      "\u001b[1;31mModuleNotFoundError\u001b[0m: No module named 'talib'"
     ]
    }
   ],
   "source": [
    "from bs4 import BeautifulSoup\n",
    "import datetime\n",
    "import json\n",
    "import numpy as np\n",
    "import pandas as pd\n",
    "import requests\n",
    "import time\n",
    "import warnings\n",
    "warnings.simplefilter('ignore')\n",
    "\n",
    "import talib as ta\n",
    "from talib import MA_Type\n",
    "\n",
    "from sklearn import preprocessing\n",
    "from sklearn.model_selection import train_test_split\n",
    "from sklearn import metrics\n",
    "from sklearn import svm\n",
    "\n",
    "import matplotlib.pyplot as plt\n",
    "from matplotlib.dates import DateFormatter\n",
    "import matplotlib.ticker as ticker"
   ]
  },
  {
   "cell_type": "code",
   "execution_count": 11,
   "metadata": {},
   "outputs": [],
   "source": [
    "Dow_Page = requests.get('https://finance.yahoo.com/quote/%5EDJI/components?p=%5EDJI')\n",
    "Dow_Content = Dow_Page.content\n",
    "\n",
    "soup = BeautifulSoup(Dow_Content)\n",
    "\n",
    "data = list(soup.findAll(\"td\",{\"class\":\"Py(10px) Ta(start) Pend(10px)\"}))"
   ]
  },
  {
   "cell_type": "code",
   "execution_count": 12,
   "metadata": {},
   "outputs": [],
   "source": [
    "Ticker_List = []\n",
    "for i in data:\n",
    "    TempData = str(i)\n",
    "    if \"title\" in TempData:\n",
    "        TempData = TempData[TempData.find(\"title\"):]\n",
    "        TempData = TempData[TempData.find(\">\")+1:TempData.find(\"<\")]\n",
    "        Ticker_List.append(TempData)\n",
    "    else:\n",
    "        continue"
   ]
  },
  {
   "cell_type": "code",
   "execution_count": 14,
   "metadata": {},
   "outputs": [],
   "source": [
    "Start_Date = int(time.mktime((2014,10,28,4,0,0,0,0,0)))\n",
    "End_Date = int(time.mktime((2019,10,28,4,0,0,0,0,0)))"
   ]
  },
  {
   "cell_type": "code",
   "execution_count": 15,
   "metadata": {},
   "outputs": [],
   "source": [
    "def ScrapeYahoo(data_df,ticker, start, end):\n",
    "    \n",
    "    #Form the URL to be scraped\n",
    "    Base_Url = 'https://query1.finance.yahoo.com/v8/finance/chart/'\n",
    "    Scrape_Url = Base_Url + ticker + \"?period1=\" + str(start)+\"&period2=\"+str(end)+\"&interval=1d\"\n",
    "    \n",
    "    #Get data from page\n",
    "    r = requests.get(Scrape_Url)\n",
    "    Page_Data = r.json()\n",
    "    \n",
    "    # Compile data into a DataFrame\n",
    "    Stock_df = pd.DataFrame()\n",
    "    Stock_df['DateTime'] = Page_Data['chart']['result'][0]['timestamp']\n",
    "    Stock_df['DateTime'] = Stock_df['DateTime'].apply(lambda x: datetime.datetime.fromtimestamp(x).date().isoformat())\n",
    "    Stock_df[\"Open\"] = Page_Data[\"chart\"][\"result\"][0][\"indicators\"][\"quote\"][0][\"open\"]\n",
    "    Stock_df[\"High\"] = Page_Data[\"chart\"][\"result\"][0][\"indicators\"][\"quote\"][0][\"high\"]\n",
    "    Stock_df[\"Low\"] = Page_Data[\"chart\"][\"result\"][0][\"indicators\"][\"quote\"][0][\"low\"]\n",
    "    Stock_df[\"Close\"] = Page_Data[\"chart\"][\"result\"][0][\"indicators\"][\"quote\"][0][\"close\"]\n",
    "    Stock_df[\"Volume\"] = Page_Data[\"chart\"][\"result\"][0][\"indicators\"][\"quote\"][0][\"volume\"]\n",
    "    Stock_df = Stock_df.set_index(\"DateTime\")\n",
    "    \n",
    "    #Add data to a dictionary containing all values\n",
    "    data_df[ticker] =  Stock_df\n",
    "    "
   ]
  },
  {
   "cell_type": "code",
   "execution_count": 16,
   "metadata": {},
   "outputs": [],
   "source": [
    "Stock_Data = {}\n",
    "\n",
    "for i in Ticker_List:\n",
    "    ScrapeYahoo(Stock_Data, i, Start_Date, End_Date)\n",
    "    #print(i + \" done\")\n",
    "    time.sleep(0.5)"
   ]
  },
  {
   "cell_type": "code",
   "execution_count": 17,
   "metadata": {},
   "outputs": [],
   "source": [
    "for i in Ticker_List:\n",
    "    \n",
    "    Stock_Data[i]['High Shifted']=Stock_Data[i]['High'].shift(1)\n",
    "    Stock_Data[i]['Low Shifted'] = Stock_Data[i]['Low'].shift(1)\n",
    "    Stock_Data[i]['Close Shifted'] = Stock_Data[i]['Close'].shift(1)\n",
    "    \n",
    "    Stock_Data[i]['Upper BBand'], Stock_Data[i]['Middle BBand'],Stock_Data[i]['Lower BBand']= ta.BBANDS(Stock_Data[i]['Close Shifted'],\n",
    "                                                                                                       timeperiod=20,)\n",
    "    \n",
    "    Stock_Data[i]['RSI'] = ta.RSI(np.array(Stock_Data[i]['Close Shifted']), timeperiod=14)\n",
    "\n",
    "    Stock_Data[i]['Macd'], Stock_Data[i]['Macd Signal'],Stock_Data[i]['Macd Hist'] = ta.MACD(Stock_Data[i]['Close Shifted'], fastperiod=12, slowperiod=26, \n",
    "                                                               signalperiod=9)\n",
    "\n",
    "    Stock_Data[i]['Momentum'] = ta.MOM(Stock_Data[i]['Close Shifted'],timeperiod=12)\n",
    "    \n",
    "    Stock_Data[i]['Returns'] = np.log(Stock_Data[i]['Open']/Stock_Data[i]['Open'].shift(1)) "
   ]
  },
  {
   "cell_type": "code",
   "execution_count": 18,
   "metadata": {},
   "outputs": [],
   "source": [
    "for i in Ticker_List:\n",
    "    Signal_List = []\n",
    "    for j in Stock_Data[i]['Returns']:\n",
    "        \n",
    "        if (j>=0):\n",
    "            Signal_List.append(\"1\")\n",
    "            \n",
    "        else:\n",
    "            Signal_List.append(\"0\")\n",
    "            \n",
    "    Stock_Data[i]['Signal'] = Signal_List"
   ]
  },
  {
   "cell_type": "code",
   "execution_count": 19,
   "metadata": {},
   "outputs": [
    {
     "ename": "NameError",
     "evalue": "name 'preprocessing' is not defined",
     "output_type": "error",
     "traceback": [
      "\u001b[1;31m---------------------------------------------------------------------------\u001b[0m",
      "\u001b[1;31mNameError\u001b[0m                                 Traceback (most recent call last)",
      "\u001b[1;32m<ipython-input-19-82b880245b35>\u001b[0m in \u001b[0;36m<module>\u001b[1;34m()\u001b[0m\n\u001b[1;32m----> 1\u001b[1;33m \u001b[0mmax_abs_scaler\u001b[0m \u001b[1;33m=\u001b[0m \u001b[0mpreprocessing\u001b[0m\u001b[1;33m.\u001b[0m\u001b[0mMaxAbsScaler\u001b[0m\u001b[1;33m(\u001b[0m\u001b[1;33m)\u001b[0m\u001b[1;33m\u001b[0m\u001b[0m\n\u001b[0m\u001b[0;32m      2\u001b[0m \u001b[1;33m\u001b[0m\u001b[0m\n\u001b[0;32m      3\u001b[0m \u001b[0mModel_Dict\u001b[0m \u001b[1;33m=\u001b[0m \u001b[1;33m{\u001b[0m\u001b[1;33m}\u001b[0m\u001b[1;33m\u001b[0m\u001b[0m\n\u001b[0;32m      4\u001b[0m \u001b[1;33m\u001b[0m\u001b[0m\n\u001b[0;32m      5\u001b[0m \u001b[1;32mfor\u001b[0m \u001b[0mi\u001b[0m \u001b[1;32min\u001b[0m \u001b[0mTicker_List\u001b[0m\u001b[1;33m:\u001b[0m\u001b[1;33m\u001b[0m\u001b[0m\n",
      "\u001b[1;31mNameError\u001b[0m: name 'preprocessing' is not defined"
     ]
    }
   ],
   "source": [
    "max_abs_scaler = preprocessing.MaxAbsScaler()\n",
    "\n",
    "Model_Dict = {}\n",
    "\n",
    "for i in Ticker_List:\n",
    "    Stock_Data[i].dropna(inplace=True)\n",
    "    \n",
    "    X = np.array(Stock_Data[i].drop(['Signal','Returns'],1))\n",
    "    X = max_abs_scaler.fit_transform(X)\n",
    "    Y = np.array(Stock_Data[i]['Signal'])\n",
    "   \n",
    "    \n",
    "    X_train, X_test, y_train, y_test = train_test_split(X, Y, test_size=0.3)\n",
    "    \n",
    "    Model_Dict[i] = {}\n",
    "    Model_Dict[i]['X Train'] = X_train\n",
    "    Model_Dict[i]['X Test'] = X_test\n",
    "    Model_Dict[i]['Y Train'] = y_train\n",
    "    Model_Dict[i]['Y Test'] = y_test\n",
    "    \n",
    "    model = svm.SVC(kernel='rbf',decision_function_shape='ovo')\n",
    "    #model = svm.SVC(kernel='linear')\n",
    "    #model = svm.SVC(kernel='linear',decision_function_shape='ovo')\n",
    "    #model = svm.SVC(kernel='rbf',decision_function_shape='ovo')\n",
    "    #model = svm.SVC(kernel='poly')\n",
    "    #model = svm.SVC(kernel='poly',decision_function_shape='ovo')\n",
    "    #model = svm.SVC(kernel='sigmoid')\n",
    "    #model = svm.SVC(kernel='sigmoid',decision_function_shape='ovo')\n",
    "    \n",
    "    model.fit(Model_Dict[i]['X Train'], Model_Dict[i]['Y Train'])\n",
    "    y_pred = model.predict(Model_Dict[i]['X Test'])\n",
    "    \n",
    "    Model_Dict[i]['Y Prediction'] = y_pred\n",
    "    \n",
    "    \n",
    "    #print(\"SVM Model Info for Ticker: \"+i)\n",
    "    #print(\"Accuracy:\",metrics.accuracy_score(Model_Dict[i]['Y Test'], Model_Dict[i]['Y Prediction']))\n",
    "    Model_Dict[i]['Accuracy'] = metrics.accuracy_score(Model_Dict[i]['Y Test'], Model_Dict[i]['Y Prediction'])\n",
    "    #print(\"Precision:\",metrics.precision_score(Model_Dict[i]['Y Test'], Model_Dict[i]['Y Prediction'],pos_label=str(1),average=\"macro\"))\n",
    "    Model_Dict[i]['Precision'] = metrics.precision_score(Model_Dict[i]['Y Test'], Model_Dict[i]['Y Prediction'],pos_label=str(1),average=\"macro\")\n",
    "    #print(\"Recall:\",metrics.recall_score(Model_Dict[i]['Y Test'], Model_Dict[i]['Y Prediction'],pos_label=str(1),average=\"macro\"))\n",
    "    Model_Dict[i]['Recall'] = metrics.recall_score(Model_Dict[i]['Y Test'], Model_Dict[i]['Y Prediction'],pos_label=str(1),average=\"macro\")\n",
    "    #print(\"#################### \\n\")"
   ]
  },
  {
   "cell_type": "code",
   "execution_count": 20,
   "metadata": {},
   "outputs": [],
   "source": [
    "for i in Ticker_List:\n",
    "    \n",
    "    prediction_length = len(Model_Dict[i]['Y Prediction'])\n",
    "    \n",
    "    Stock_Data[i]['SVM Signal'] = 0\n",
    "    Stock_Data[i]['SVM Returns'] = 0\n",
    "    Stock_Data[i]['Total Strat Returns'] = 0\n",
    "    Stock_Data[i]['Market Returns'] = 0\n",
    "    \n",
    "    Signal_Column = Stock_Data[i].columns.get_loc('SVM Signal')\n",
    "    Strat_Column = Stock_Data[i].columns.get_loc('SVM Returns')\n",
    "    Return_Column = Stock_Data[i].columns.get_loc('Total Strat Returns')\n",
    "    Market_Column = Stock_Data[i].columns.get_loc('Market Returns')\n",
    "       \n",
    "    Stock_Data[i].iloc[-prediction_length:,Signal_Column] = list(map(int,Model_Dict[i]['Y Prediction']))\n",
    "    Stock_Data[i]['SVM Returns'] = Stock_Data[i]['SVM Signal'] * Stock_Data[i]['Returns'].shift(1)\n",
    "    \n",
    "    Stock_Data[i].iloc[-prediction_length:,Return_Column] = np.nancumsum(Stock_Data[i]['SVM Returns'][-prediction_length:])\n",
    "    Stock_Data[i].iloc[-prediction_length:,Market_Column] = np.nancumsum(Stock_Data[i]['Returns'][-prediction_length:])\n",
    "    \n",
    "    Model_Dict[i]['Sharpe_Ratio'] = (Stock_Data[i]['Total Strat Returns'][-1] - Stock_Data[i]['Market Returns'][-1])/ \\\n",
    "                    np.nanstd(Stock_Data[i]['Total Strat Returns'][-prediction_length:])"
   ]
  },
  {
   "cell_type": "code",
   "execution_count": 21,
   "metadata": {},
   "outputs": [],
   "source": [
    "for i in Ticker_List:\n",
    "    fig, ax = plt.subplots(figsize=(9, 7))\n",
    "\n",
    "    ax.plot(Stock_Data[i][-prediction_length:].index.values,\n",
    "            Stock_Data[i]['Total Strat Returns'][-prediction_length:].values, color='g', label=\"Strat Returns\")\n",
    "    \n",
    "    ax.plot(Stock_Data[i][-prediction_length:].index.values,\n",
    "            Stock_Data[i]['Market Returns'][-prediction_length:].values, color='b', label=\"Market Returns\")\n",
    "    \n",
    "    ax.set(xlabel= \"Date\",ylabel=\"Returns\")\n",
    "    plt.title(i,fontsize=15)\n",
    "    ax.xaxis.set_major_locator(ticker.AutoLocator())\n",
    "    \n",
    "    plt.figtext(.95,0.78, s=\"Sharpe Ratio \"+'{0:.5g}'.format(Model_Dict[i]['Sharpe_Ratio']))\n",
    "    plt.figtext(.95,0.75, s=\"Sum Total Strat Returns \"+'{0:.5g}'.format(Stock_Data[i]['Total Strat Returns'].sum()))\n",
    "    plt.figtext(.95,0.72,s=\"Model Accuracy \" +'{0:.5g}'.format(Model_Dict[i]['Accuracy']))\n",
    "    plt.figtext(.95,0.69,s=\"Model Precision \" +'{0:.5g}'.format(Model_Dict[i]['Precision']))\n",
    "    plt.figtext(.95,0.66,s=\"Model Recall \" +'{0:.5g}'.format(Model_Dict[i]['Recall']))\n",
    "    \n",
    "    plt.legend(loc='best')\n",
    "    plt.show()"
   ]
  }
 ],
 "metadata": {
  "kernelspec": {
   "display_name": "Python 3",
   "language": "python",
   "name": "python3"
  },
  "language_info": {
   "codemirror_mode": {
    "name": "ipython",
    "version": 3
   },
   "file_extension": ".py",
   "mimetype": "text/x-python",
   "name": "python",
   "nbconvert_exporter": "python",
   "pygments_lexer": "ipython3",
   "version": "3.7.0"
  }
 },
 "nbformat": 4,
 "nbformat_minor": 2
}
